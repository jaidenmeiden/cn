{
 "cells": [
  {
   "cell_type": "markdown",
   "metadata": {},
   "source": [
    "# Módulo de análisis de sistemas de splicing simples\n",
    "\n",
    "El sistema de **splicing** se desarrolló como un modelo matemático de sistemas de enzimas de restricción que actúan sobre\n",
    "Moléculas de ADN. Las moléculas de ADN pueden ser cortadas por enzimas de restricción en una secuencia particular de nucleótidos. Las moléculas que pueden surgir de un sistema de **splicing** se denominan lenguaje de **splicing**. \n",
    "\n",
    "### Splicing System and Splicing Language\n",
    "\n",
    "Un sistema de splicing **S = (A, I, B, C)** consiste en un alfabeto finito **A**, un conjunto finito  incicial de cadenas **I** en **A***, y conjuntos finitos **B** y **C** de triples **(c, x, d)** con **c**, **x** y **d** en **A***. Cada uno de esos triples en **B** ó **C** se llama patrón. **L(S)** es el lenguaje generado por un sistema de splicing **S** que consiste\n",
    "de las cadenas en **I** y todas las cadenas que se pueden obtener uniendo las palabras ucxfq y pexdv a **L** siempre que\n",
    "ucxdv y pexfq están en **L**.\n",
    "\n",
    "### Simple Splicing System and Simple Splicing Language\n",
    "\n",
    "Sea **S = (A, I, R)** un sistema de splicing en el que todas las reglas en **R** tienen la forma **(a, 1; a, 1)**, donde **a** está en **A**. Entonces **S** es llamado sistema de splicing simple. Un lenguaje de splicing **L** se dice que es un lenguaje de splicing simple si **L** puede ser generado por un sistema de splicing simple.\n",
    "\n",
    "### Regular\n",
    "\n",
    "Un lenguaje **L** se llama regular si y solo si existe un **accepter** finito determinista **M** tal que **L = L(M)**.\n"
   ]
  },
  {
   "cell_type": "markdown",
   "metadata": {},
   "source": [
    "## Desarrollo\n",
    "\n",
    "\n",
    "Para desarrollar el modulo de análisis se tuvieron en cuenta los ejemplos expuestos en el articulo **Recognition of Simple Splicing Systems using SHAutomaton**, donde existe un sistema de **splicing** con solo una cadena en I y una regla en R:\n",
    "\n",
    "\n",
    "L(A, I, R)\n",
    "\n",
    "A = {a,b}\n",
    "\n",
    "I = {aaabaa}\n",
    "\n",
    "R = {b}\n",
    "\n",
    "El objetivo de la herramienta es determinar la expresión regular de una determinada cadena de texto ingresada"
   ]
  },
  {
   "cell_type": "code",
   "execution_count": 1,
   "metadata": {},
   "outputs": [],
   "source": [
    "A = ['a', 'b']\n",
    "R = ['b']"
   ]
  },
  {
   "cell_type": "markdown",
   "metadata": {},
   "source": [
    "La función **existeEnEAlfabeto** determina si la cadena pertenece al alfabeto"
   ]
  },
  {
   "cell_type": "code",
   "execution_count": 2,
   "metadata": {
    "pycharm": {
     "name": "#%%\n"
    }
   },
   "outputs": [],
   "source": [
    "def existeEnEAlfabeto(cadena):\n",
    "    notIn = False\n",
    "    for letra in cadena:\n",
    "        if letra not in A:\n",
    "            notIn = True\n",
    "            break\n",
    "    return notIn"
   ]
  },
  {
   "cell_type": "markdown",
   "metadata": {},
   "source": [
    "La función **aplicaReglas** determina si se cumplen las reglas"
   ]
  },
  {
   "cell_type": "code",
   "execution_count": 3,
   "metadata": {},
   "outputs": [],
   "source": [
    "def aplicaReglas(cadena):\n",
    "    notIn = False    \n",
    "    for letra in cadena:\n",
    "        if R[0] == letra:\n",
    "            notIn = True\n",
    "            break\n",
    "    return notIn"
   ]
  },
  {
   "cell_type": "markdown",
   "metadata": {},
   "source": [
    "La función **frecuencias** determina cuantas veces se repite una letra de forma consecutiva"
   ]
  },
  {
   "cell_type": "code",
   "execution_count": 4,
   "metadata": {},
   "outputs": [],
   "source": [
    "def frecuencias(cadena):\n",
    "    frecuencia = []\n",
    "    before = cadena[0]\n",
    "    cuenta = 1\n",
    "    for i in range(1, len(cadena)):\n",
    "        if before == cadena[i]:\n",
    "            cuenta += 1\n",
    "        else:\n",
    "            frecuencia.append(cadena[i - 1])\n",
    "            frecuencia.append(cuenta)\n",
    "            cuenta = 1\n",
    "        before = cadena[i]\n",
    "        if i == len(cadena) - 1:\n",
    "            frecuencia.append(cadena[i])\n",
    "            frecuencia.append(cuenta)\n",
    "    return frecuencia"
   ]
  },
  {
   "cell_type": "markdown",
   "metadata": {},
   "source": [
    "La función **obtenerPrimero** determina cual es el primer carácter de la cadena"
   ]
  },
  {
   "cell_type": "code",
   "execution_count": 5,
   "metadata": {},
   "outputs": [],
   "source": [
    "def obtenerPrimero(frecuencia):\n",
    "    primero = []\n",
    "    if frecuencia[0] == 'a':\n",
    "        primero.append(frecuencia[1])\n",
    "    primero = list(dict.fromkeys(primero))\n",
    "    primero.sort()\n",
    "    return primero"
   ]
  },
  {
   "cell_type": "markdown",
   "metadata": {},
   "source": [
    "La función **obtenerUltimo** determina cual es el ultimo carácter de la cadena"
   ]
  },
  {
   "cell_type": "code",
   "execution_count": 6,
   "metadata": {},
   "outputs": [],
   "source": [
    "def obtenerUltimo(frecuencia):\n",
    "    ultimo = []\n",
    "    if frecuencia[-2] == 'a':\n",
    "        ultimo.append(frecuencia[-1])\n",
    "    ultimo = list(dict.fromkeys(ultimo))\n",
    "    ultimo.sort()\n",
    "    return ultimo"
   ]
  },
  {
   "cell_type": "markdown",
   "metadata": {},
   "source": [
    "La función **obtenerInternos** busca y determina cuantas veces se repiten los caracteres internos de la cadena"
   ]
  },
  {
   "cell_type": "code",
   "execution_count": 7,
   "metadata": {},
   "outputs": [],
   "source": [
    "def buscarInternos(frecuencia, k, limit, busca):\n",
    "    internos = []\n",
    "    if frecuencia[0] != 'b':\n",
    "        k += 2\n",
    "    for i in range(k, len(frecuencia) - limit, 4):\n",
    "        if frecuencia[i] == busca:\n",
    "            internos.append(frecuencia[i + 1])\n",
    "    return list(dict.fromkeys(internos))\n",
    "\n",
    "\n",
    "def obtenerInternos(frecuencia, k, limit, busca):\n",
    "    histograma = list(dict.fromkeys(buscarInternos(frecuencia, k, limit, busca)))\n",
    "    histograma.sort()\n",
    "    return histograma"
   ]
  },
  {
   "cell_type": "markdown",
   "metadata": {},
   "source": [
    "La función **seRepite** determina si el carácter que le precede debe aparecer al menos una vez"
   ]
  },
  {
   "cell_type": "code",
   "execution_count": 8,
   "metadata": {},
   "outputs": [],
   "source": [
    "def seRepite(histograma):\n",
    "    if histograma:\n",
    "        mas = True if histograma[-1] > 1 else False\n",
    "    else:\n",
    "        mas = False\n",
    "    return mas"
   ]
  },
  {
   "cell_type": "markdown",
   "metadata": {},
   "source": [
    "La función **expresionRegular** calcula la expresión regular correspondiente a la cadena"
   ]
  },
  {
   "cell_type": "code",
   "execution_count": 9,
   "metadata": {},
   "outputs": [],
   "source": [
    "def expresionRegular(primero, interno, ultimo, mas, asterisco=True):\n",
    "    inicia = ''\n",
    "    for s in primero:\n",
    "        inicia += s * 'a'\n",
    "        inicia += '+'\n",
    "    inicia = inicia[:-1]\n",
    "\n",
    "    enmedio = ''\n",
    "    if mas:\n",
    "        enmedio += 'b+'\n",
    "    for s in interno:\n",
    "        enmedio += s * 'a'\n",
    "        enmedio += 'b+'\n",
    "    enmedio = enmedio[:-1]\n",
    "\n",
    "    finaliza = ''\n",
    "    for s in ultimo:\n",
    "        finaliza += s * 'a'\n",
    "        finaliza += '+'\n",
    "    finaliza = finaliza[:-1]\n",
    "\n",
    "    expresion = ''\n",
    "    if inicia is not '':\n",
    "        expresion = '(' + inicia + ')'\n",
    "    if expresion:\n",
    "        expresion += 'b'\n",
    "    if enmedio is not '':\n",
    "        expresion += '(' + enmedio + ')'\n",
    "    if asterisco:\n",
    "        expresion += '*'\n",
    "    if finaliza is not '':\n",
    "        expresion += '(' + finaliza + ')'\n",
    "    return expresion"
   ]
  },
  {
   "cell_type": "markdown",
   "metadata": {},
   "source": [
    "### Función principal"
   ]
  },
  {
   "cell_type": "code",
   "execution_count": 10,
   "metadata": {},
   "outputs": [],
   "source": [
    "def verificarCadena(cadena):\n",
    "    if type(cadena) is str:\n",
    "        print(f'Cadena \"{cadena}\"')\n",
    "        if not existeEnEAlfabeto(cadena):\n",
    "            if aplicaReglas(cadena):\n",
    "                frecuencia = frecuencias(cadena)\n",
    "                primero = obtenerPrimero(frecuencia)\n",
    "                interno = obtenerInternos(frecuencia, 2, 2, 'a')\n",
    "                ultimo = obtenerUltimo(frecuencia)\n",
    "                mas = seRepite(obtenerInternos(frecuencia, 0, 0, 'b'))\n",
    "                print(f'La espresión regular de la cadena es: {expresionRegular(primero, interno, ultimo, mas, True)}')\n",
    "                print()\n",
    "            else:\n",
    "                print('No se cumple con las reglas')\n",
    "                print()\n",
    "        else:\n",
    "            print('La cadena no pertenecece al lenguaje')\n",
    "            print()\n",
    "    else:\n",
    "        print('La cadena no es un lenguaje')\n",
    "        print()"
   ]
  },
  {
   "cell_type": "code",
   "execution_count": 11,
   "metadata": {},
   "outputs": [
    {
     "name": "stdout",
     "output_type": "stream",
     "text": [
      "Cadena \"aabaaaaabaaabaa\"\n",
      "La espresión regular de la cadena es: (aa)b(aaab+aaaaab)*(aa)\n",
      "\n"
     ]
    }
   ],
   "source": [
    "verificarCadena('aabaaaaabaaabaa')"
   ]
  },
  {
   "cell_type": "code",
   "execution_count": 12,
   "metadata": {},
   "outputs": [
    {
     "name": "stdout",
     "output_type": "stream",
     "text": [
      "Cadena \"ababababababababababa\"\n",
      "La espresión regular de la cadena es: (a)b(ab)*(a)\n",
      "\n"
     ]
    }
   ],
   "source": [
    "verificarCadena('ababababababababababa')"
   ]
  },
  {
   "cell_type": "code",
   "execution_count": 13,
   "metadata": {},
   "outputs": [
    {
     "name": "stdout",
     "output_type": "stream",
     "text": [
      "Cadena \"abaaabaa\"\n",
      "La espresión regular de la cadena es: (a)b(aaab)*(aa)\n",
      "\n"
     ]
    }
   ],
   "source": [
    "verificarCadena('abaaabaa')"
   ]
  },
  {
   "cell_type": "code",
   "execution_count": 14,
   "metadata": {},
   "outputs": [
    {
     "name": "stdout",
     "output_type": "stream",
     "text": [
      "Cadena \"bbaaaba\"\n",
      "La espresión regular de la cadena es: (b+aaab)*(a)\n",
      "\n"
     ]
    }
   ],
   "source": [
    "verificarCadena('bbaaaba')"
   ]
  },
  {
   "cell_type": "code",
   "execution_count": 15,
   "metadata": {},
   "outputs": [
    {
     "name": "stdout",
     "output_type": "stream",
     "text": [
      "Cadena \"aba\"\n",
      "La espresión regular de la cadena es: (a)b*(a)\n",
      "\n"
     ]
    }
   ],
   "source": [
    "verificarCadena('aba')"
   ]
  },
  {
   "cell_type": "code",
   "execution_count": 16,
   "metadata": {},
   "outputs": [
    {
     "name": "stdout",
     "output_type": "stream",
     "text": [
      "Cadena \"aaa\"\n",
      "No se cumple con las reglas\n",
      "\n"
     ]
    }
   ],
   "source": [
    "verificarCadena('aaa')"
   ]
  },
  {
   "cell_type": "code",
   "execution_count": 17,
   "metadata": {},
   "outputs": [
    {
     "name": "stdout",
     "output_type": "stream",
     "text": [
      "Cadena \"aad\"\n",
      "La cadena no pertenecece al lenguaje\n",
      "\n"
     ]
    }
   ],
   "source": [
    "verificarCadena('aad')"
   ]
  }
 ],
 "metadata": {
  "kernelspec": {
   "display_name": "Python 3",
   "language": "python",
   "name": "python3"
  },
  "language_info": {
   "codemirror_mode": {
    "name": "ipython",
    "version": 3
   },
   "file_extension": ".py",
   "mimetype": "text/x-python",
   "name": "python",
   "nbconvert_exporter": "python",
   "pygments_lexer": "ipython3",
   "version": "3.7.8"
  }
 },
 "nbformat": 4,
 "nbformat_minor": 1
}